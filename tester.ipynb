{
 "cells": [
  {
   "cell_type": "code",
   "execution_count": 1,
   "metadata": {},
   "outputs": [
    {
     "name": "stdout",
     "output_type": "stream",
     "text": [
      "t1: False t1c: True t2: False flair: False\n",
      "mode: t1c-o\n",
      "BasicUNet features: (32, 32, 64, 128, 256, 32).\n"
     ]
    }
   ],
   "source": [
    "from brainles_aurora.core import infer\n",
    "from brainles_aurora.lib import single_inference\n",
    "from brainles_aurora.aux import turbo_path\n",
    "from brainles_aurora.enums import InferenceMode\n",
    "\n",
    "\n",
    "t1c_file = \"example_data/BraTS-MET-00110-000-t1c.nii.gz\"\n",
    "segmentation_file = \"your_segmentation_file.nii.gz\"\n",
    "tta = False  # optional: whether to use test time augmentations\n",
    "verbosity = True  # optional: verbosity of the output\n",
    "\n",
    "c = single_inference(\n",
    "    t1c_file=t1c_file, segmentation_file=segmentation_file, tta=tta, verbosity=verbosity\n",
    ")"
   ]
  },
  {
   "cell_type": "code",
   "execution_count": 2,
   "metadata": {},
   "outputs": [
    {
     "name": "stdout",
     "output_type": "stream",
     "text": [
      "t1: False t1c: True t2: False flair: False\n",
      "mode: InferenceMode.T1C_O\n",
      "BasicUNet features: (32, 32, 64, 128, 256, 32).\n",
      "odict_keys(['module.conv_0.conv_0.conv.weight', 'module.conv_0.conv_0.conv.bias', 'module.conv_0.conv_0.adn.N.weight', 'module.conv_0.conv_0.adn.N.bias', 'module.conv_0.conv_1.conv.weight', 'module.conv_0.conv_1.conv.bias', 'module.conv_0.conv_1.adn.N.weight', 'module.conv_0.conv_1.adn.N.bias', 'module.down_1.convs.conv_0.conv.weight', 'module.down_1.convs.conv_0.conv.bias', 'module.down_1.convs.conv_0.adn.N.weight', 'module.down_1.convs.conv_0.adn.N.bias', 'module.down_1.convs.conv_1.conv.weight', 'module.down_1.convs.conv_1.conv.bias', 'module.down_1.convs.conv_1.adn.N.weight', 'module.down_1.convs.conv_1.adn.N.bias', 'module.down_2.convs.conv_0.conv.weight', 'module.down_2.convs.conv_0.conv.bias', 'module.down_2.convs.conv_0.adn.N.weight', 'module.down_2.convs.conv_0.adn.N.bias', 'module.down_2.convs.conv_1.conv.weight', 'module.down_2.convs.conv_1.conv.bias', 'module.down_2.convs.conv_1.adn.N.weight', 'module.down_2.convs.conv_1.adn.N.bias', 'module.down_3.convs.conv_0.conv.weight', 'module.down_3.convs.conv_0.conv.bias', 'module.down_3.convs.conv_0.adn.N.weight', 'module.down_3.convs.conv_0.adn.N.bias', 'module.down_3.convs.conv_1.conv.weight', 'module.down_3.convs.conv_1.conv.bias', 'module.down_3.convs.conv_1.adn.N.weight', 'module.down_3.convs.conv_1.adn.N.bias', 'module.down_4.convs.conv_0.conv.weight', 'module.down_4.convs.conv_0.conv.bias', 'module.down_4.convs.conv_0.adn.N.weight', 'module.down_4.convs.conv_0.adn.N.bias', 'module.down_4.convs.conv_1.conv.weight', 'module.down_4.convs.conv_1.conv.bias', 'module.down_4.convs.conv_1.adn.N.weight', 'module.down_4.convs.conv_1.adn.N.bias', 'module.upcat_4.upsample.deconv.weight', 'module.upcat_4.upsample.deconv.bias', 'module.upcat_4.convs.conv_0.conv.weight', 'module.upcat_4.convs.conv_0.conv.bias', 'module.upcat_4.convs.conv_0.adn.N.weight', 'module.upcat_4.convs.conv_0.adn.N.bias', 'module.upcat_4.convs.conv_1.conv.weight', 'module.upcat_4.convs.conv_1.conv.bias', 'module.upcat_4.convs.conv_1.adn.N.weight', 'module.upcat_4.convs.conv_1.adn.N.bias', 'module.upcat_3.upsample.deconv.weight', 'module.upcat_3.upsample.deconv.bias', 'module.upcat_3.convs.conv_0.conv.weight', 'module.upcat_3.convs.conv_0.conv.bias', 'module.upcat_3.convs.conv_0.adn.N.weight', 'module.upcat_3.convs.conv_0.adn.N.bias', 'module.upcat_3.convs.conv_1.conv.weight', 'module.upcat_3.convs.conv_1.conv.bias', 'module.upcat_3.convs.conv_1.adn.N.weight', 'module.upcat_3.convs.conv_1.adn.N.bias', 'module.upcat_2.upsample.deconv.weight', 'module.upcat_2.upsample.deconv.bias', 'module.upcat_2.convs.conv_0.conv.weight', 'module.upcat_2.convs.conv_0.conv.bias', 'module.upcat_2.convs.conv_0.adn.N.weight', 'module.upcat_2.convs.conv_0.adn.N.bias', 'module.upcat_2.convs.conv_1.conv.weight', 'module.upcat_2.convs.conv_1.conv.bias', 'module.upcat_2.convs.conv_1.adn.N.weight', 'module.upcat_2.convs.conv_1.adn.N.bias', 'module.upcat_1.upsample.deconv.weight', 'module.upcat_1.upsample.deconv.bias', 'module.upcat_1.convs.conv_0.conv.weight', 'module.upcat_1.convs.conv_0.conv.bias', 'module.upcat_1.convs.conv_0.adn.N.weight', 'module.upcat_1.convs.conv_0.adn.N.bias', 'module.upcat_1.convs.conv_1.conv.weight', 'module.upcat_1.convs.conv_1.conv.bias', 'module.upcat_1.convs.conv_1.adn.N.weight', 'module.upcat_1.convs.conv_1.adn.N.bias', 'module.final_conv.weight', 'module.final_conv.bias'])\n"
     ]
    },
    {
     "ename": "RuntimeError",
     "evalue": "Error(s) in loading state_dict for BasicUNet:\n\tMissing key(s) in state_dict: \"conv_0.conv_0.conv.weight\", \"conv_0.conv_0.conv.bias\", \"conv_0.conv_0.adn.N.weight\", \"conv_0.conv_0.adn.N.bias\", \"conv_0.conv_1.conv.weight\", \"conv_0.conv_1.conv.bias\", \"conv_0.conv_1.adn.N.weight\", \"conv_0.conv_1.adn.N.bias\", \"down_1.convs.conv_0.conv.weight\", \"down_1.convs.conv_0.conv.bias\", \"down_1.convs.conv_0.adn.N.weight\", \"down_1.convs.conv_0.adn.N.bias\", \"down_1.convs.conv_1.conv.weight\", \"down_1.convs.conv_1.conv.bias\", \"down_1.convs.conv_1.adn.N.weight\", \"down_1.convs.conv_1.adn.N.bias\", \"down_2.convs.conv_0.conv.weight\", \"down_2.convs.conv_0.conv.bias\", \"down_2.convs.conv_0.adn.N.weight\", \"down_2.convs.conv_0.adn.N.bias\", \"down_2.convs.conv_1.conv.weight\", \"down_2.convs.conv_1.conv.bias\", \"down_2.convs.conv_1.adn.N.weight\", \"down_2.convs.conv_1.adn.N.bias\", \"down_3.convs.conv_0.conv.weight\", \"down_3.convs.conv_0.conv.bias\", \"down_3.convs.conv_0.adn.N.weight\", \"down_3.convs.conv_0.adn.N.bias\", \"down_3.convs.conv_1.conv.weight\", \"down_3.convs.conv_1.conv.bias\", \"down_3.convs.conv_1.adn.N.weight\", \"down_3.convs.conv_1.adn.N.bias\", \"down_4.convs.conv_0.conv.weight\", \"down_4.convs.conv_0.conv.bias\", \"down_4.convs.conv_0.adn.N.weight\", \"down_4.convs.conv_0.adn.N.bias\", \"down_4.convs.conv_1.conv.weight\", \"down_4.convs.conv_1.conv.bias\", \"down_4.convs.conv_1.adn.N.weight\", \"down_4.convs.conv_1.adn.N.bias\", \"upcat_4.upsample.deconv.weight\", \"upcat_4.upsample.deconv.bias\", \"upcat_4.convs.conv_0.conv.weight\", \"upcat_4.convs.conv_0.conv.bias\", \"upcat_4.convs.conv_0.adn.N.weight\", \"upcat_4.convs.conv_0.adn.N.bias\", \"upcat_4.convs.conv_1.conv.weight\", \"upcat_4.convs.conv_1.conv.bias\", \"upcat_4.convs.conv_1.adn.N.weight\", \"upcat_4.convs.conv_1.adn.N.bias\", \"upcat_3.upsample.deconv.weight\", \"upcat_3.upsample.deconv.bias\", \"upcat_3.convs.conv_0.conv.weight\", \"upcat_3.convs.conv_0.conv.bias\", \"upcat_3.convs.conv_0.adn.N.weight\", \"upcat_3.convs.conv_0.adn.N.bias\", \"upcat_3.convs.conv_1.conv.weight\", \"upcat_3.convs.conv_1.conv.bias\", \"upcat_3.convs.conv_1.adn.N.weight\", \"upcat_3.convs.conv_1.adn.N.bias\", \"upcat_2.upsample.deconv.weight\", \"upcat_2.upsample.deconv.bias\", \"upcat_2.convs.conv_0.conv.weight\", \"upcat_2.convs.conv_0.conv.bias\", \"upcat_2.convs.conv_0.adn.N.weight\", \"upcat_2.convs.conv_0.adn.N.bias\", \"upcat_2.convs.conv_1.conv.weight\", \"upcat_2.convs.conv_1.conv.bias\", \"upcat_2.convs.conv_1.adn.N.weight\", \"upcat_2.convs.conv_1.adn.N.bias\", \"upcat_1.upsample.deconv.weight\", \"upcat_1.upsample.deconv.bias\", \"upcat_1.convs.conv_0.conv.weight\", \"upcat_1.convs.conv_0.conv.bias\", \"upcat_1.convs.conv_0.adn.N.weight\", \"upcat_1.convs.conv_0.adn.N.bias\", \"upcat_1.convs.conv_1.conv.weight\", \"upcat_1.convs.conv_1.conv.bias\", \"upcat_1.convs.conv_1.adn.N.weight\", \"upcat_1.convs.conv_1.adn.N.bias\", \"final_conv.weight\", \"final_conv.bias\". \n\tUnexpected key(s) in state_dict: \"module.conv_0.conv_0.conv.weight\", \"module.conv_0.conv_0.conv.bias\", \"module.conv_0.conv_0.adn.N.weight\", \"module.conv_0.conv_0.adn.N.bias\", \"module.conv_0.conv_1.conv.weight\", \"module.conv_0.conv_1.conv.bias\", \"module.conv_0.conv_1.adn.N.weight\", \"module.conv_0.conv_1.adn.N.bias\", \"module.down_1.convs.conv_0.conv.weight\", \"module.down_1.convs.conv_0.conv.bias\", \"module.down_1.convs.conv_0.adn.N.weight\", \"module.down_1.convs.conv_0.adn.N.bias\", \"module.down_1.convs.conv_1.conv.weight\", \"module.down_1.convs.conv_1.conv.bias\", \"module.down_1.convs.conv_1.adn.N.weight\", \"module.down_1.convs.conv_1.adn.N.bias\", \"module.down_2.convs.conv_0.conv.weight\", \"module.down_2.convs.conv_0.conv.bias\", \"module.down_2.convs.conv_0.adn.N.weight\", \"module.down_2.convs.conv_0.adn.N.bias\", \"module.down_2.convs.conv_1.conv.weight\", \"module.down_2.convs.conv_1.conv.bias\", \"module.down_2.convs.conv_1.adn.N.weight\", \"module.down_2.convs.conv_1.adn.N.bias\", \"module.down_3.convs.conv_0.conv.weight\", \"module.down_3.convs.conv_0.conv.bias\", \"module.down_3.convs.conv_0.adn.N.weight\", \"module.down_3.convs.conv_0.adn.N.bias\", \"module.down_3.convs.conv_1.conv.weight\", \"module.down_3.convs.conv_1.conv.bias\", \"module.down_3.convs.conv_1.adn.N.weight\", \"module.down_3.convs.conv_1.adn.N.bias\", \"module.down_4.convs.conv_0.conv.weight\", \"module.down_4.convs.conv_0.conv.bias\", \"module.down_4.convs.conv_0.adn.N.weight\", \"module.down_4.convs.conv_0.adn.N.bias\", \"module.down_4.convs.conv_1.conv.weight\", \"module.down_4.convs.conv_1.conv.bias\", \"module.down_4.convs.conv_1.adn.N.weight\", \"module.down_4.convs.conv_1.adn.N.bias\", \"module.upcat_4.upsample.deconv.weight\", \"module.upcat_4.upsample.deconv.bias\", \"module.upcat_4.convs.conv_0.conv.weight\", \"module.upcat_4.convs.conv_0.conv.bias\", \"module.upcat_4.convs.conv_0.adn.N.weight\", \"module.upcat_4.convs.conv_0.adn.N.bias\", \"module.upcat_4.convs.conv_1.conv.weight\", \"module.upcat_4.convs.conv_1.conv.bias\", \"module.upcat_4.convs.conv_1.adn.N.weight\", \"module.upcat_4.convs.conv_1.adn.N.bias\", \"module.upcat_3.upsample.deconv.weight\", \"module.upcat_3.upsample.deconv.bias\", \"module.upcat_3.convs.conv_0.conv.weight\", \"module.upcat_3.convs.conv_0.conv.bias\", \"module.upcat_3.convs.conv_0.adn.N.weight\", \"module.upcat_3.convs.conv_0.adn.N.bias\", \"module.upcat_3.convs.conv_1.conv.weight\", \"module.upcat_3.convs.conv_1.conv.bias\", \"module.upcat_3.convs.conv_1.adn.N.weight\", \"module.upcat_3.convs.conv_1.adn.N.bias\", \"module.upcat_2.upsample.deconv.weight\", \"module.upcat_2.upsample.deconv.bias\", \"module.upcat_2.convs.conv_0.conv.weight\", \"module.upcat_2.convs.conv_0.conv.bias\", \"module.upcat_2.convs.conv_0.adn.N.weight\", \"module.upcat_2.convs.conv_0.adn.N.bias\", \"module.upcat_2.convs.conv_1.conv.weight\", \"module.upcat_2.convs.conv_1.conv.bias\", \"module.upcat_2.convs.conv_1.adn.N.weight\", \"module.upcat_2.convs.conv_1.adn.N.bias\", \"module.upcat_1.upsample.deconv.weight\", \"module.upcat_1.upsample.deconv.bias\", \"module.upcat_1.convs.conv_0.conv.weight\", \"module.upcat_1.convs.conv_0.conv.bias\", \"module.upcat_1.convs.conv_0.adn.N.weight\", \"module.upcat_1.convs.conv_0.adn.N.bias\", \"module.upcat_1.convs.conv_1.conv.weight\", \"module.upcat_1.convs.conv_1.conv.bias\", \"module.upcat_1.convs.conv_1.adn.N.weight\", \"module.upcat_1.convs.conv_1.adn.N.bias\", \"module.final_conv.weight\", \"module.final_conv.bias\". ",
     "output_type": "error",
     "traceback": [
      "\u001b[0;31m---------------------------------------------------------------------------\u001b[0m",
      "\u001b[0;31mRuntimeError\u001b[0m                              Traceback (most recent call last)",
      "\u001b[1;32m/Users/marcelrosier/Projects/helmholtz/AURORA/tester.ipynb Cell 2\u001b[0m line \u001b[0;36m1\n\u001b[0;32m----> <a href='vscode-notebook-cell:/Users/marcelrosier/Projects/helmholtz/AURORA/tester.ipynb#W2sZmlsZQ%3D%3D?line=0'>1</a>\u001b[0m c2 \u001b[39m=\u001b[39m infer(t1c_file\u001b[39m=\u001b[39;49mt1c_file,\n\u001b[1;32m      <a href='vscode-notebook-cell:/Users/marcelrosier/Projects/helmholtz/AURORA/tester.ipynb#W2sZmlsZQ%3D%3D?line=1'>2</a>\u001b[0m     segmentation_file\u001b[39m=\u001b[39;49msegmentation_file,\n\u001b[1;32m      <a href='vscode-notebook-cell:/Users/marcelrosier/Projects/helmholtz/AURORA/tester.ipynb#W2sZmlsZQ%3D%3D?line=2'>3</a>\u001b[0m     tta\u001b[39m=\u001b[39;49mtta,\n\u001b[1;32m      <a href='vscode-notebook-cell:/Users/marcelrosier/Projects/helmholtz/AURORA/tester.ipynb#W2sZmlsZQ%3D%3D?line=3'>4</a>\u001b[0m     verbosity\u001b[39m=\u001b[39;49mverbosity\n\u001b[1;32m      <a href='vscode-notebook-cell:/Users/marcelrosier/Projects/helmholtz/AURORA/tester.ipynb#W2sZmlsZQ%3D%3D?line=4'>5</a>\u001b[0m )\n",
      "File \u001b[0;32m~/Projects/helmholtz/AURORA/brainles_aurora/core.py:78\u001b[0m, in \u001b[0;36minfer\u001b[0;34m(segmentation_file, t1_file, t1c_file, t2_file, fla_file, whole_network_outputs_file, metastasis_network_outputs_file, cuda_devices, tta, sliding_window_batch_size, workers, threshold, sliding_window_overlap, crop_size, model_selection, verbosity)\u001b[0m\n\u001b[1;32m     69\u001b[0m data_loader \u001b[39m=\u001b[39m _get_dloader(\n\u001b[1;32m     70\u001b[0m     mode\u001b[39m=\u001b[39mmode,\n\u001b[1;32m     71\u001b[0m     t1_file\u001b[39m=\u001b[39mt1_file,\n\u001b[0;32m   (...)\u001b[0m\n\u001b[1;32m     75\u001b[0m     workers\u001b[39m=\u001b[39mworkers,\n\u001b[1;32m     76\u001b[0m )\n\u001b[1;32m     77\u001b[0m \u001b[39m# load model\u001b[39;00m\n\u001b[0;32m---> 78\u001b[0m model \u001b[39m=\u001b[39m _get_model(\n\u001b[1;32m     79\u001b[0m     mode\u001b[39m=\u001b[39;49mmode,\n\u001b[1;32m     80\u001b[0m     model_selection\u001b[39m=\u001b[39;49mmodel_selection,\n\u001b[1;32m     81\u001b[0m     device\u001b[39m=\u001b[39;49mdevice\n\u001b[1;32m     82\u001b[0m )\n\u001b[1;32m     83\u001b[0m \u001b[39mreturn\u001b[39;00m model\n\u001b[1;32m     84\u001b[0m \u001b[39m# create inferrer\u001b[39;00m\n",
      "File \u001b[0;32m~/Projects/helmholtz/AURORA/brainles_aurora/core.py:290\u001b[0m, in \u001b[0;36m_get_model\u001b[0;34m(mode, model_selection, device)\u001b[0m\n\u001b[1;32m    286\u001b[0m \u001b[39mif\u001b[39;00m \u001b[39mnot\u001b[39;00m os\u001b[39m.\u001b[39mpath\u001b[39m.\u001b[39mexists(weights):\n\u001b[1;32m    287\u001b[0m     \u001b[39mraise\u001b[39;00m \u001b[39mNotImplementedError\u001b[39;00m(\n\u001b[1;32m    288\u001b[0m         \u001b[39mf\u001b[39m\u001b[39m\"\u001b[39m\u001b[39mNo weights found for model \u001b[39m\u001b[39m{\u001b[39;00mmode\u001b[39m}\u001b[39;00m\u001b[39m and selection \u001b[39m\u001b[39m{\u001b[39;00mmodel_selection\u001b[39m}\u001b[39;00m\u001b[39m\"\u001b[39m)\n\u001b[0;32m--> 290\u001b[0m model\u001b[39m.\u001b[39;49mload_state_dict(checkpoint[\u001b[39m\"\u001b[39;49m\u001b[39mmodel_state\u001b[39;49m\u001b[39m\"\u001b[39;49m])\n\u001b[1;32m    292\u001b[0m \u001b[39mreturn\u001b[39;00m model\n",
      "File \u001b[0;32m~/opt/anaconda3/envs/brainles/lib/python3.10/site-packages/torch/nn/modules/module.py:2152\u001b[0m, in \u001b[0;36mModule.load_state_dict\u001b[0;34m(self, state_dict, strict, assign)\u001b[0m\n\u001b[1;32m   2147\u001b[0m         error_msgs\u001b[39m.\u001b[39minsert(\n\u001b[1;32m   2148\u001b[0m             \u001b[39m0\u001b[39m, \u001b[39m'\u001b[39m\u001b[39mMissing key(s) in state_dict: \u001b[39m\u001b[39m{}\u001b[39;00m\u001b[39m. \u001b[39m\u001b[39m'\u001b[39m\u001b[39m.\u001b[39mformat(\n\u001b[1;32m   2149\u001b[0m                 \u001b[39m'\u001b[39m\u001b[39m, \u001b[39m\u001b[39m'\u001b[39m\u001b[39m.\u001b[39mjoin(\u001b[39mf\u001b[39m\u001b[39m'\u001b[39m\u001b[39m\"\u001b[39m\u001b[39m{\u001b[39;00mk\u001b[39m}\u001b[39;00m\u001b[39m\"\u001b[39m\u001b[39m'\u001b[39m \u001b[39mfor\u001b[39;00m k \u001b[39min\u001b[39;00m missing_keys)))\n\u001b[1;32m   2151\u001b[0m \u001b[39mif\u001b[39;00m \u001b[39mlen\u001b[39m(error_msgs) \u001b[39m>\u001b[39m \u001b[39m0\u001b[39m:\n\u001b[0;32m-> 2152\u001b[0m     \u001b[39mraise\u001b[39;00m \u001b[39mRuntimeError\u001b[39;00m(\u001b[39m'\u001b[39m\u001b[39mError(s) in loading state_dict for \u001b[39m\u001b[39m{}\u001b[39;00m\u001b[39m:\u001b[39m\u001b[39m\\n\u001b[39;00m\u001b[39m\\t\u001b[39;00m\u001b[39m{}\u001b[39;00m\u001b[39m'\u001b[39m\u001b[39m.\u001b[39mformat(\n\u001b[1;32m   2153\u001b[0m                        \u001b[39mself\u001b[39m\u001b[39m.\u001b[39m\u001b[39m__class__\u001b[39m\u001b[39m.\u001b[39m\u001b[39m__name__\u001b[39m, \u001b[39m\"\u001b[39m\u001b[39m\\n\u001b[39;00m\u001b[39m\\t\u001b[39;00m\u001b[39m\"\u001b[39m\u001b[39m.\u001b[39mjoin(error_msgs)))\n\u001b[1;32m   2154\u001b[0m \u001b[39mreturn\u001b[39;00m _IncompatibleKeys(missing_keys, unexpected_keys)\n",
      "\u001b[0;31mRuntimeError\u001b[0m: Error(s) in loading state_dict for BasicUNet:\n\tMissing key(s) in state_dict: \"conv_0.conv_0.conv.weight\", \"conv_0.conv_0.conv.bias\", \"conv_0.conv_0.adn.N.weight\", \"conv_0.conv_0.adn.N.bias\", \"conv_0.conv_1.conv.weight\", \"conv_0.conv_1.conv.bias\", \"conv_0.conv_1.adn.N.weight\", \"conv_0.conv_1.adn.N.bias\", \"down_1.convs.conv_0.conv.weight\", \"down_1.convs.conv_0.conv.bias\", \"down_1.convs.conv_0.adn.N.weight\", \"down_1.convs.conv_0.adn.N.bias\", \"down_1.convs.conv_1.conv.weight\", \"down_1.convs.conv_1.conv.bias\", \"down_1.convs.conv_1.adn.N.weight\", \"down_1.convs.conv_1.adn.N.bias\", \"down_2.convs.conv_0.conv.weight\", \"down_2.convs.conv_0.conv.bias\", \"down_2.convs.conv_0.adn.N.weight\", \"down_2.convs.conv_0.adn.N.bias\", \"down_2.convs.conv_1.conv.weight\", \"down_2.convs.conv_1.conv.bias\", \"down_2.convs.conv_1.adn.N.weight\", \"down_2.convs.conv_1.adn.N.bias\", \"down_3.convs.conv_0.conv.weight\", \"down_3.convs.conv_0.conv.bias\", \"down_3.convs.conv_0.adn.N.weight\", \"down_3.convs.conv_0.adn.N.bias\", \"down_3.convs.conv_1.conv.weight\", \"down_3.convs.conv_1.conv.bias\", \"down_3.convs.conv_1.adn.N.weight\", \"down_3.convs.conv_1.adn.N.bias\", \"down_4.convs.conv_0.conv.weight\", \"down_4.convs.conv_0.conv.bias\", \"down_4.convs.conv_0.adn.N.weight\", \"down_4.convs.conv_0.adn.N.bias\", \"down_4.convs.conv_1.conv.weight\", \"down_4.convs.conv_1.conv.bias\", \"down_4.convs.conv_1.adn.N.weight\", \"down_4.convs.conv_1.adn.N.bias\", \"upcat_4.upsample.deconv.weight\", \"upcat_4.upsample.deconv.bias\", \"upcat_4.convs.conv_0.conv.weight\", \"upcat_4.convs.conv_0.conv.bias\", \"upcat_4.convs.conv_0.adn.N.weight\", \"upcat_4.convs.conv_0.adn.N.bias\", \"upcat_4.convs.conv_1.conv.weight\", \"upcat_4.convs.conv_1.conv.bias\", \"upcat_4.convs.conv_1.adn.N.weight\", \"upcat_4.convs.conv_1.adn.N.bias\", \"upcat_3.upsample.deconv.weight\", \"upcat_3.upsample.deconv.bias\", \"upcat_3.convs.conv_0.conv.weight\", \"upcat_3.convs.conv_0.conv.bias\", \"upcat_3.convs.conv_0.adn.N.weight\", \"upcat_3.convs.conv_0.adn.N.bias\", \"upcat_3.convs.conv_1.conv.weight\", \"upcat_3.convs.conv_1.conv.bias\", \"upcat_3.convs.conv_1.adn.N.weight\", \"upcat_3.convs.conv_1.adn.N.bias\", \"upcat_2.upsample.deconv.weight\", \"upcat_2.upsample.deconv.bias\", \"upcat_2.convs.conv_0.conv.weight\", \"upcat_2.convs.conv_0.conv.bias\", \"upcat_2.convs.conv_0.adn.N.weight\", \"upcat_2.convs.conv_0.adn.N.bias\", \"upcat_2.convs.conv_1.conv.weight\", \"upcat_2.convs.conv_1.conv.bias\", \"upcat_2.convs.conv_1.adn.N.weight\", \"upcat_2.convs.conv_1.adn.N.bias\", \"upcat_1.upsample.deconv.weight\", \"upcat_1.upsample.deconv.bias\", \"upcat_1.convs.conv_0.conv.weight\", \"upcat_1.convs.conv_0.conv.bias\", \"upcat_1.convs.conv_0.adn.N.weight\", \"upcat_1.convs.conv_0.adn.N.bias\", \"upcat_1.convs.conv_1.conv.weight\", \"upcat_1.convs.conv_1.conv.bias\", \"upcat_1.convs.conv_1.adn.N.weight\", \"upcat_1.convs.conv_1.adn.N.bias\", \"final_conv.weight\", \"final_conv.bias\". \n\tUnexpected key(s) in state_dict: \"module.conv_0.conv_0.conv.weight\", \"module.conv_0.conv_0.conv.bias\", \"module.conv_0.conv_0.adn.N.weight\", \"module.conv_0.conv_0.adn.N.bias\", \"module.conv_0.conv_1.conv.weight\", \"module.conv_0.conv_1.conv.bias\", \"module.conv_0.conv_1.adn.N.weight\", \"module.conv_0.conv_1.adn.N.bias\", \"module.down_1.convs.conv_0.conv.weight\", \"module.down_1.convs.conv_0.conv.bias\", \"module.down_1.convs.conv_0.adn.N.weight\", \"module.down_1.convs.conv_0.adn.N.bias\", \"module.down_1.convs.conv_1.conv.weight\", \"module.down_1.convs.conv_1.conv.bias\", \"module.down_1.convs.conv_1.adn.N.weight\", \"module.down_1.convs.conv_1.adn.N.bias\", \"module.down_2.convs.conv_0.conv.weight\", \"module.down_2.convs.conv_0.conv.bias\", \"module.down_2.convs.conv_0.adn.N.weight\", \"module.down_2.convs.conv_0.adn.N.bias\", \"module.down_2.convs.conv_1.conv.weight\", \"module.down_2.convs.conv_1.conv.bias\", \"module.down_2.convs.conv_1.adn.N.weight\", \"module.down_2.convs.conv_1.adn.N.bias\", \"module.down_3.convs.conv_0.conv.weight\", \"module.down_3.convs.conv_0.conv.bias\", \"module.down_3.convs.conv_0.adn.N.weight\", \"module.down_3.convs.conv_0.adn.N.bias\", \"module.down_3.convs.conv_1.conv.weight\", \"module.down_3.convs.conv_1.conv.bias\", \"module.down_3.convs.conv_1.adn.N.weight\", \"module.down_3.convs.conv_1.adn.N.bias\", \"module.down_4.convs.conv_0.conv.weight\", \"module.down_4.convs.conv_0.conv.bias\", \"module.down_4.convs.conv_0.adn.N.weight\", \"module.down_4.convs.conv_0.adn.N.bias\", \"module.down_4.convs.conv_1.conv.weight\", \"module.down_4.convs.conv_1.conv.bias\", \"module.down_4.convs.conv_1.adn.N.weight\", \"module.down_4.convs.conv_1.adn.N.bias\", \"module.upcat_4.upsample.deconv.weight\", \"module.upcat_4.upsample.deconv.bias\", \"module.upcat_4.convs.conv_0.conv.weight\", \"module.upcat_4.convs.conv_0.conv.bias\", \"module.upcat_4.convs.conv_0.adn.N.weight\", \"module.upcat_4.convs.conv_0.adn.N.bias\", \"module.upcat_4.convs.conv_1.conv.weight\", \"module.upcat_4.convs.conv_1.conv.bias\", \"module.upcat_4.convs.conv_1.adn.N.weight\", \"module.upcat_4.convs.conv_1.adn.N.bias\", \"module.upcat_3.upsample.deconv.weight\", \"module.upcat_3.upsample.deconv.bias\", \"module.upcat_3.convs.conv_0.conv.weight\", \"module.upcat_3.convs.conv_0.conv.bias\", \"module.upcat_3.convs.conv_0.adn.N.weight\", \"module.upcat_3.convs.conv_0.adn.N.bias\", \"module.upcat_3.convs.conv_1.conv.weight\", \"module.upcat_3.convs.conv_1.conv.bias\", \"module.upcat_3.convs.conv_1.adn.N.weight\", \"module.upcat_3.convs.conv_1.adn.N.bias\", \"module.upcat_2.upsample.deconv.weight\", \"module.upcat_2.upsample.deconv.bias\", \"module.upcat_2.convs.conv_0.conv.weight\", \"module.upcat_2.convs.conv_0.conv.bias\", \"module.upcat_2.convs.conv_0.adn.N.weight\", \"module.upcat_2.convs.conv_0.adn.N.bias\", \"module.upcat_2.convs.conv_1.conv.weight\", \"module.upcat_2.convs.conv_1.conv.bias\", \"module.upcat_2.convs.conv_1.adn.N.weight\", \"module.upcat_2.convs.conv_1.adn.N.bias\", \"module.upcat_1.upsample.deconv.weight\", \"module.upcat_1.upsample.deconv.bias\", \"module.upcat_1.convs.conv_0.conv.weight\", \"module.upcat_1.convs.conv_0.conv.bias\", \"module.upcat_1.convs.conv_0.adn.N.weight\", \"module.upcat_1.convs.conv_0.adn.N.bias\", \"module.upcat_1.convs.conv_1.conv.weight\", \"module.upcat_1.convs.conv_1.conv.bias\", \"module.upcat_1.convs.conv_1.adn.N.weight\", \"module.upcat_1.convs.conv_1.adn.N.bias\", \"module.final_conv.weight\", \"module.final_conv.bias\". "
     ]
    }
   ],
   "source": [
    "c2 = infer(\n",
    "    t1c_file=t1c_file, segmentation_file=segmentation_file, tta=tta, verbosity=verbosity\n",
    ")"
   ]
  },
  {
   "cell_type": "code",
   "execution_count": 3,
   "metadata": {},
   "outputs": [
    {
     "ename": "NameError",
     "evalue": "name 'c2' is not defined",
     "output_type": "error",
     "traceback": [
      "\u001b[0;31m---------------------------------------------------------------------------\u001b[0m",
      "\u001b[0;31mNameError\u001b[0m                                 Traceback (most recent call last)",
      "\u001b[1;32m/Users/marcelrosier/Projects/helmholtz/AURORA/tester.ipynb Cell 3\u001b[0m line \u001b[0;36m1\n\u001b[0;32m----> <a href='vscode-notebook-cell:/Users/marcelrosier/Projects/helmholtz/AURORA/tester.ipynb#W3sZmlsZQ%3D%3D?line=0'>1</a>\u001b[0m c[\u001b[39m'\u001b[39m\u001b[39mmodel_state\u001b[39m\u001b[39m'\u001b[39m]\u001b[39m.\u001b[39mkeys() \u001b[39m==\u001b[39m c2[\u001b[39m'\u001b[39m\u001b[39mmodel_state\u001b[39m\u001b[39m'\u001b[39m]\u001b[39m.\u001b[39mkeys()\n",
      "\u001b[0;31mNameError\u001b[0m: name 'c2' is not defined"
     ]
    }
   ],
   "source": [
    "c[\"model_state\"].keys() == c2[\"model_state\"].keys()"
   ]
  },
  {
   "cell_type": "code",
   "execution_count": 4,
   "metadata": {},
   "outputs": [],
   "source": [
    "test = [\n",
    "    \"module.conv_0.conv_0.conv.weight\",\n",
    "    \"module.conv_0.conv_0.conv.bias\",\n",
    "    \"module.conv_0.conv_0.adn.N.weight\",\n",
    "    \"module.conv_0.conv_0.adn.N.bias\",\n",
    "    \"module.conv_0.conv_1.conv.weight\",\n",
    "    \"module.conv_0.conv_1.conv.bias\",\n",
    "    \"module.conv_0.conv_1.adn.N.weight\",\n",
    "    \"module.conv_0.conv_1.adn.N.bias\",\n",
    "    \"module.down_1.convs.conv_0.conv.weight\",\n",
    "    \"module.down_1.convs.conv_0.conv.bias\",\n",
    "    \"module.down_1.convs.conv_0.adn.N.weight\",\n",
    "    \"module.down_1.convs.conv_0.adn.N.bias\",\n",
    "    \"module.down_1.convs.conv_1.conv.weight\",\n",
    "    \"module.down_1.convs.conv_1.conv.bias\",\n",
    "    \"module.down_1.convs.conv_1.adn.N.weight\",\n",
    "    \"module.down_1.convs.conv_1.adn.N.bias\",\n",
    "    \"module.down_2.convs.conv_0.conv.weight\",\n",
    "    \"module.down_2.convs.conv_0.conv.bias\",\n",
    "    \"module.down_2.convs.conv_0.adn.N.weight\",\n",
    "    \"module.down_2.convs.conv_0.adn.N.bias\",\n",
    "    \"module.down_2.convs.conv_1.conv.weight\",\n",
    "    \"module.down_2.convs.conv_1.conv.bias\",\n",
    "    \"module.down_2.convs.conv_1.adn.N.weight\",\n",
    "    \"module.down_2.convs.conv_1.adn.N.bias\",\n",
    "    \"module.down_3.convs.conv_0.conv.weight\",\n",
    "    \"module.down_3.convs.conv_0.conv.bias\",\n",
    "    \"module.down_3.convs.conv_0.adn.N.weight\",\n",
    "    \"module.down_3.convs.conv_0.adn.N.bias\",\n",
    "    \"module.down_3.convs.conv_1.conv.weight\",\n",
    "    \"module.down_3.convs.conv_1.conv.bias\",\n",
    "    \"module.down_3.convs.conv_1.adn.N.weight\",\n",
    "    \"module.down_3.convs.conv_1.adn.N.bias\",\n",
    "    \"module.down_4.convs.conv_0.conv.weight\",\n",
    "    \"module.down_4.convs.conv_0.conv.bias\",\n",
    "    \"module.down_4.convs.conv_0.adn.N.weight\",\n",
    "    \"module.down_4.convs.conv_0.adn.N.bias\",\n",
    "    \"module.down_4.convs.conv_1.conv.weight\",\n",
    "    \"module.down_4.convs.conv_1.conv.bias\",\n",
    "    \"module.down_4.convs.conv_1.adn.N.weight\",\n",
    "    \"module.down_4.convs.conv_1.adn.N.bias\",\n",
    "    \"module.upcat_4.upsample.deconv.weight\",\n",
    "    \"module.upcat_4.upsample.deconv.bias\",\n",
    "    \"module.upcat_4.convs.conv_0.conv.weight\",\n",
    "    \"module.upcat_4.convs.conv_0.conv.bias\",\n",
    "    \"module.upcat_4.convs.conv_0.adn.N.weight\",\n",
    "    \"module.upcat_4.convs.conv_0.adn.N.bias\",\n",
    "    \"module.upcat_4.convs.conv_1.conv.weight\",\n",
    "    \"module.upcat_4.convs.conv_1.conv.bias\",\n",
    "    \"module.upcat_4.convs.conv_1.adn.N.weight\",\n",
    "    \"module.upcat_4.convs.conv_1.adn.N.bias\",\n",
    "    \"module.upcat_3.upsample.deconv.weight\",\n",
    "    \"module.upcat_3.upsample.deconv.bias\",\n",
    "    \"module.upcat_3.convs.conv_0.conv.weight\",\n",
    "    \"module.upcat_3.convs.conv_0.conv.bias\",\n",
    "    \"module.upcat_3.convs.conv_0.adn.N.weight\",\n",
    "    \"module.upcat_3.convs.conv_0.adn.N.bias\",\n",
    "    \"module.upcat_3.convs.conv_1.conv.weight\",\n",
    "    \"module.upcat_3.convs.conv_1.conv.bias\",\n",
    "    \"module.upcat_3.convs.conv_1.adn.N.weight\",\n",
    "    \"module.upcat_3.convs.conv_1.adn.N.bias\",\n",
    "    \"module.upcat_2.upsample.deconv.weight\",\n",
    "    \"module.upcat_2.upsample.deconv.bias\",\n",
    "    \"module.upcat_2.convs.conv_0.conv.weight\",\n",
    "    \"module.upcat_2.convs.conv_0.conv.bias\",\n",
    "    \"module.upcat_2.convs.conv_0.adn.N.weight\",\n",
    "    \"module.upcat_2.convs.conv_0.adn.N.bias\",\n",
    "    \"module.upcat_2.convs.conv_1.conv.weight\",\n",
    "    \"module.upcat_2.convs.conv_1.conv.bias\",\n",
    "    \"module.upcat_2.convs.conv_1.adn.N.weight\",\n",
    "    \"module.upcat_2.convs.conv_1.adn.N.bias\",\n",
    "    \"module.upcat_1.upsample.deconv.weight\",\n",
    "    \"module.upcat_1.upsample.deconv.bias\",\n",
    "    \"module.upcat_1.convs.conv_0.conv.weight\",\n",
    "    \"module.upcat_1.convs.conv_0.conv.bias\",\n",
    "    \"module.upcat_1.convs.conv_0.adn.N.weight\",\n",
    "    \"module.upcat_1.convs.conv_0.adn.N.bias\",\n",
    "    \"module.upcat_1.convs.conv_1.conv.weight\",\n",
    "    \"module.upcat_1.convs.conv_1.conv.bias\",\n",
    "    \"module.upcat_1.convs.conv_1.adn.N.weight\",\n",
    "    \"module.upcat_1.convs.conv_1.adn.N.bias\",\n",
    "    \"module.final_conv.weight\",\n",
    "    \"module.final_conv.bias\",\n",
    "]"
   ]
  },
  {
   "cell_type": "code",
   "execution_count": 5,
   "metadata": {},
   "outputs": [
    {
     "data": {
      "text/plain": [
       "False"
      ]
     },
     "execution_count": 5,
     "metadata": {},
     "output_type": "execute_result"
    }
   ],
   "source": [
    "for k in c[\"model_state\"].keys():\n",
    "    if not k in test:\n",
    "        print(k)"
   ]
  },
  {
   "cell_type": "code",
   "execution_count": null,
   "metadata": {},
   "outputs": [],
   "source": []
  },
  {
   "cell_type": "code",
   "execution_count": null,
   "metadata": {},
   "outputs": [],
   "source": []
  }
 ],
 "metadata": {
  "kernelspec": {
   "display_name": "helm",
   "language": "python",
   "name": "python3"
  },
  "language_info": {
   "codemirror_mode": {
    "name": "ipython",
    "version": 3
   },
   "file_extension": ".py",
   "mimetype": "text/x-python",
   "name": "python",
   "nbconvert_exporter": "python",
   "pygments_lexer": "ipython3",
   "version": "3.10.13"
  }
 },
 "nbformat": 4,
 "nbformat_minor": 2
}
